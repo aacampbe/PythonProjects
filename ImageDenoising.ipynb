{
 "cells": [
  {
   "cell_type": "markdown",
   "metadata": {},
   "source": [
    "\n",
    "<style>.mark {     background-color: yellow; }  .burk {     font-family: monospace;     color: red;     white-space: pre;     font-style: normal; }  .girk {     color: red;     font-style: italic; } </style>\n"
   ]
  },
  {
   "cell_type": "markdown",
   "metadata": {},
   "source": [
    "\n",
    "<div id=\"grTable\">\n",
    "<style>\n",
    "        #grTable table.grade {\n",
    "            font-family: Arial, Helvetica, sans-serif;\n",
    "            width: 100%;\n",
    "            min-width: 800px;\n",
    "            table-layout: fixed;\n",
    "            border-collapse: collapse;\n",
    "            border: 3px solid darkslateblue;\n",
    "            font-size: 100%;\n",
    "            color: darkslateblue;\n",
    "            align: left;\n",
    "        }\n",
    "\n",
    "        #grTable th.grade {\n",
    "            text-align: left;\n",
    "            border: 2px solid darkslateblue;\n",
    "            background-color: Gainsboro;\n",
    "            text-align: left;\n",
    "            font-size: larger;\n",
    "            padding: 10px 20px 10px 20px;\n",
    "        }\n",
    "\n",
    "        #grTable td.grade {\n",
    "            margin: 5px;\n",
    "            padding: 5px;\n",
    "            text-align: left;\n",
    "            border: 2px solid darkslateblue;\n",
    "            vertical-align: baseline;\n",
    "        }\n",
    "\n",
    "        #grTable ul.grade {\n",
    "            margin: 0px;\n",
    "            padding: 10px 20px 10px 20px;\n",
    "        }\n",
    "\n",
    "        span.grade {\n",
    "            color: red;\n",
    "\n",
    "\n",
    "        }\n",
    "\n",
    "        #grTable td.grade-big {\n",
    "            margin: 5px;\n",
    "            padding: 5px;\n",
    "            border: 2px solid darkslateblue;\n",
    "            vertical-align: middle;\n",
    "            text-align: center;\n",
    "            font-size: 300%;\n",
    "            color: red;\n",
    "        }\n",
    "\n",
    "        #grTable td.grade-comments {\n",
    "            text-align: left;\n",
    "            font-style: italic;\n",
    "            padding: 10px 20px 10px 20px;\n",
    "            color: red;\n",
    "        }\n",
    "\n",
    "        #grTable .grade-rubrics {\n",
    "            font-style: italic;\n",
    "            color: darkslateblue;\n",
    "            font-family: Arial, Helvetica, sans-serif;\n",
    "\n",
    "\n",
    "        }\n",
    "        #grTable .footer {\n",
    "            text-align: left;\n",
    "            text-align: left;\n",
    "            font-style: italic;\n",
    "            font-size: smaller;\n",
    "            font-family: Arial, Helvetica, sans-serif;\n",
    "            padding: 7px 20px 7px 20px;\n",
    "\n",
    "        }\n",
    "    </style>\n",
    "<table class=\"grade\">\n",
    "<tbody>\n",
    "<tr>\n",
    "<th class=\"grade\">Code: <span class=\"grade\">B-</span> (30%)</th>\n",
    "<th class=\"grade\">Introduction: <span class=\"grade\">B</span> (10%)</th>\n",
    "<th class=\"grade\">Content: <span class=\"grade\">C+</span> (30%)</th>\n",
    "<th class=\"grade\">Conclusion: <span class=\"grade\">B-</span> (10%)</th>\n",
    "<th class=\"grade\">Presentation: <span class=\"grade\">B-</span> (20%)</th>\n",
    "<th class=\"grade\" style=\"width: 100px;\">Bonus</th>\n",
    "<th class=\"grade\" style=\"width: 100px;\">Grade</th>\n",
    "</tr>\n",
    "<tr>\n",
    "<td class=\"grade\">\n",
    "<ul class=\"grade\">\n",
    "<li>Correctness: <span class=\"grade\">Good</span></li>\n",
    "<li>Completness: <span class=\"grade\">Good</span></li>\n",
    "<li>Readability: <span class=\"grade\">Good</span></li>\n",
    "<li>Documentation: <span class=\"grade\">Deficient</span></li>\n",
    "</ul>\n",
    "</td>\n",
    "<td class=\"grade\">\n",
    "<ul class=\"grade\">\n",
    "<li>Narrative: <span class=\"grade\">Good</span></li>\n",
    "</ul>\n",
    "</td>\n",
    "<td class=\"grade\">\n",
    "<ul class=\"grade\">\n",
    "<li>Scope: <span class=\"grade\">Good</span></li>\n",
    "<li>Narrative: <span class=\"grade\">Fair</span></li>\n",
    "<li>Analysis: <span class=\"grade\">Fair</span></li>\n",
    "</ul>\n",
    "</td>\n",
    "<td class=\"grade\">\n",
    "<ul class=\"grade\">\n",
    "<li>Narrative: <span class=\"grade\">Good</span></li>\n",
    "</ul>\n",
    "</td>\n",
    "<td class=\"grade\">\n",
    "<ul class=\"grade\">\n",
    "<li>Organization: <span class=\"grade\">Good</span></li>\n",
    "<li>Language: <span class=\"grade\">Good</span></li>\n",
    "<li>Typesetting: <span class=\"grade\">Fair</span></li>\n",
    "<li>Plots: <span class=\"grade\">Good</span></li>\n",
    "<li>Code output: <span class=\"grade\"></span></li>\n",
    "</ul>\n",
    "</td>\n",
    "<td class=\"grade-big\">\n",
    "</td>\n",
    "<td class=\"grade-big\">\n",
    "                    B-\n",
    "                </td>\n",
    "</tr>\n",
    "<tr>\n",
    "<th class=\"grade\" colspan=\"7\">Comments</th>\n",
    "</tr>\n",
    "<tr>\n",
    "<td class=\"grade-comments\" colspan=\"7\"><p>See the highlighted comments.</p></td>\n",
    "</tr>\n",
    "<tr>\n",
    "<td class=\"footer\" colspan=\"7\">\n",
    "                        Rubrics used to grade this report are posted \n",
    "                        <a href=\"https://jllottes.github.io/_static/report_rubrics.pdf\" target=\"blank_\">here.</a>\n",
    "</td>\n",
    "</tr>\n",
    "</tbody>\n",
    "</table>\n",
    "</div>\n"
   ]
  },
  {
   "cell_type": "markdown",
   "metadata": {},
   "source": [
    "\n",
    "<h1 id=\"Image-Denoising\">Image Denoising<a class=\"anchor-link\" href=\"#Image-Denoising\">¶</a></h1>\n"
   ]
  },
  {
   "cell_type": "markdown",
   "metadata": {},
   "source": [
    "\n",
    "<h2 id=\"Introduction\">Introduction<a class=\"anchor-link\" href=\"#Introduction\">¶</a></h2>\n"
   ]
  },
  {
   "cell_type": "markdown",
   "metadata": {},
   "source": [
    "\n",
    "<p>An image noise is a random distortion in the color or brightness of an image. Noise is apparent to a certain degree in every image and it is caused by factors such as imperfections in cameras, random light fluctuations, and errors from image recording,storage,and transmission. The type of noise that will be explored today will be salt and pepper noise which happens as a result of some random pixels in an image being replaced by white and some random pixels in an image being replaced by black. Salt and pepper noise will be explored as a basis for the examination of the behavior of further experimentaion and mathematical tools such as the mean filter,median filter,and an additional mathematical tool using Python code.</p>\n"
   ]
  },
  {
   "cell_type": "markdown",
   "metadata": {},
   "source": [
    "\n",
    "<h2 id=\"Setup\">Setup<a class=\"anchor-link\" href=\"#Setup\">¶</a></h2>\n"
   ]
  },
  {
   "cell_type": "markdown",
   "metadata": {},
   "source": [
    "\n",
    "<p>Salt and pepper noise needs to be added to an image but before that is done necessary imports need to be made. After the imports are made then an image needs to be read and converted to an usable format. In this case, the usable format will be a two-dimensional array.</p>\n"
   ]
  },
  {
   "cell_type": "code",
   "execution_count": null,
   "metadata": {},
   "outputs": [],
   "source": [
    "\n",
    "import numpy as np\n",
    "import matplotlib.pyplot as plt \n",
    "\n"
   ]
  },
  {
   "cell_type": "code",
   "execution_count": null,
   "metadata": {},
   "outputs": [],
   "source": [
    "\n",
    "boston = plt.imread('boston.png') #get the image\n",
    "\n"
   ]
  },
  {
   "cell_type": "code",
   "execution_count": null,
   "metadata": {},
   "outputs": [],
   "source": [
    "\n",
    "boston = boston[:,:,0] #convert array to just a 2D array\n",
    "\n"
   ]
  },
  {
   "cell_type": "markdown",
   "metadata": {},
   "source": [
    "\n",
    "<p>Now, the code below will be used to display the image and the image will be in gray and the figure size will be adjusted accordingly.</p>\n"
   ]
  },
  {
   "cell_type": "code",
   "execution_count": null,
   "metadata": {},
   "outputs": [],
   "source": [
    "\n",
    "plt.figure(figsize=(20,20))\n",
    "plt.imshow(boston,cmap='gray') #gray image\n",
    "plt.show() \n",
    "\n"
   ]
  },
  {
   "cell_type": "markdown",
   "metadata": {},
   "source": [
    "\n",
    "<h2 id=\"Adding-Salt-and-Pepper-Noise\">Adding Salt and Pepper Noise<a class=\"anchor-link\" href=\"#Adding-Salt-and-Pepper-Noise\">¶</a></h2>\n"
   ]
  },
  {
   "cell_type": "markdown",
   "metadata": {},
   "source": [
    "\n",
    "<p>Each pixel of an image has a value between $0$ and $1$. $0$ or in other words pepper means the pixel is completely black while 1 or in other words salt means the pixel is completely white. The method below has two parameters:img and noise. Img represents a 2D array with the color values of all the pixels, and noise represents the percent of the image array that will have salt and pepper noise. We will add salt pepper noise by having a separate array that is a copy of the original image array which later we will modify to have salt and pepper noise, and then have another variable that represents a 2D array with the same size as the image array that has a bunch of values between $0$ and $1$. Also, we will have salt and pepper variables which we defined as each variable being one half of the noise array. Last but not least, we want a certain percentage of the image and in this case the percentage we want is defined by the noise parameter to have noise so for example if noise is $.05$ then we want $2.5$ percent of the image array to be salt and $2.5$ percent of the image array to have pepper. Finally, we return the modified image with noise.</p>\n"
   ]
  },
  {
   "cell_type": "code",
   "execution_count": null,
   "metadata": {},
   "outputs": [],
   "source": [
    "\n",
    "def sp_noise(img,noise):\n",
    "    noise_image = img.copy() #make a copy of the image\n",
    "    mask = np.random.rand(*noise_image.shape) #random generation of salt and pepper pixels with same size as image\n",
    "    salt = mask < noise / 2 #white random pixels\n",
    "    pepper = mask < noise / 2 #black random pixels\n",
    "    noise_image[salt] = 1    #set color value if criteria met for salt to 1\n",
    "    noise_image[pepper] = 0  #set color value if criteria met for pepper to 0\n",
    "    return noise_image #return modified image\n",
    "\n"
   ]
  },
  {
   "cell_type": "markdown",
   "metadata": {},
   "source": [
    "\n",
    "<p>We will use this method to create a modified version of the original image which we will define in the variable below.</p>\n"
   ]
  },
  {
   "cell_type": "code",
   "execution_count": null,
   "metadata": {},
   "outputs": [],
   "source": [
    "\n",
    "sp_boston = sp_noise(boston, .05) #image with salt and pepper\n",
    "\n"
   ]
  },
  {
   "cell_type": "markdown",
   "metadata": {},
   "source": [
    "\n",
    "<p>Now, we will plot the results below.</p>\n"
   ]
  },
  {
   "cell_type": "code",
   "execution_count": null,
   "metadata": {},
   "outputs": [],
   "source": [
    "\n",
    "plt.figure(figsize=(20,20))\n",
    "plt.imshow(sp_boston, cmap='gray')\n",
    "plt.show()\n",
    "\n"
   ]
  },
  {
   "cell_type": "markdown",
   "metadata": {},
   "source": [
    "\n",
    "<h2 id=\"The-Mean-Filter\">The Mean Filter<a class=\"anchor-link\" href=\"#The-Mean-Filter\">¶</a></h2>\n"
   ]
  },
  {
   "cell_type": "markdown",
   "metadata": {},
   "source": [
    "\n",
    "<p>Now that salt and pepper noise has been added, we want to find a way to reduce as much salt and pepper noise as possible. One of the ways is using the mean filter. What the mean filter does is get a x by y grid situated around a pixel, and then take the mean of all the pixel values in the grid and set the pixel value to that mean value. The method below will demonstrate that by first having two parameters img which represents the image array and s which represents the size of the grid we want. For example, if s is $3$ then we want a $3x3$ grid surrounding a pixel. In order to get that s by s grid first we need a variable that represents a copy of the original image array and then we want to loop through every row and column of the image which we will do by a nested for loop;i in this case represents a row and j in this case represents a column. Inside the nested for loop we are making a grid by getting a slice of the row before the current row and the row that will make it s amount of rows and the same will go for the columns. For example, if we are starting at the second row and we want a $3x3$ grid then we will start at the second row and end at the fourth row, and if we are starting from the second column then we would want to end at the fourth column so we could make it a 3 by 3 grid. Finally, we will get that grid and take the mean of all the color values of the grid and set the pixel value which is described as $F[i,j]$ to that mean value and do this for every pixel in the image. Last but not least, we will return the modified image.</p>\n"
   ]
  },
  {
   "cell_type": "code",
   "execution_count": null,
   "metadata": {},
   "outputs": [],
   "source": [
    "\n",
    "def mean_filter(img, s):\n",
    "    F = img.copy()\n",
    "    b = (s-1)//2\n",
    "    border = np.ones((img.shape[0] + 2*b, img.shape[1] + 2*b)) / 2 #\n",
    "    border[b:-b,b:-b] = img \n",
    "    for i in range(F.shape[0]): #every row \n",
    "        for j in range(F.shape[1]): #every column\n",
    "            grid = border[i:i+s, j:j+s] #s by s grid using borders\n",
    "            F[i,j] = np.mean(grid) #this sets color value of the current pixel to the mean value of the grid created\n",
    "    return F #return image with pixel color value change\n",
    "\n"
   ]
  },
  {
   "cell_type": "markdown",
   "metadata": {},
   "source": [
    "\n",
    "<p>Now, we want to see the image that has noise in it look like when the mean filter was applied to it.</p>\n"
   ]
  },
  {
   "cell_type": "code",
   "execution_count": null,
   "metadata": {},
   "outputs": [],
   "source": [
    "\n",
    "mean_filter_boston = mean_filter(sp_boston, 5)\n",
    "\n"
   ]
  },
  {
   "cell_type": "code",
   "execution_count": null,
   "metadata": {},
   "outputs": [],
   "source": [
    "\n",
    "plt.figure(figsize=(20,20))\n",
    "plt.imshow(mean_filter_boston,cmap='gray')\n",
    "plt.show()\n",
    "\n"
   ]
  },
  {
   "cell_type": "markdown",
   "metadata": {},
   "source": [
    "\n",
    "<h2 id=\"The-Median-Filter\">The Median Filter<a class=\"anchor-link\" href=\"#The-Median-Filter\">¶</a></h2>\n"
   ]
  },
  {
   "cell_type": "markdown",
   "metadata": {},
   "source": [
    "\n",
    "<p>Now that we see what the mean filter can do let us look at another mathematical tool which is the median. The median filter is the same process as the mean filter but instead of finding the mean of a grid for each pixel we will find the median.</p>\n"
   ]
  },
  {
   "cell_type": "code",
   "execution_count": null,
   "metadata": {},
   "outputs": [],
   "source": [
    "\n",
    "def median_filter(img,s):\n",
    "    F = img.copy()\n",
    "    b = (s-1)//2\n",
    "    border = np.ones((img.shape[0] + 2*b, img.shape[1] + 2*b)) / 2\n",
    "    border[b:-b,b:-b] = img\n",
    "    for i in range(F.shape[0]):\n",
    "        for j in range(F.shape[1]):\n",
    "            grid = border[i:i+s, j:j+s]\n",
    "            F[i,j] = np.median(grid)  #this sets color value of the current pixel to the median value of the grid created\n",
    "    return F\n",
    "\n"
   ]
  },
  {
   "cell_type": "code",
   "execution_count": null,
   "metadata": {},
   "outputs": [],
   "source": [
    "\n",
    "median_filter_boston = median_filter(sp_boston, 5)\n",
    "\n"
   ]
  },
  {
   "cell_type": "code",
   "execution_count": null,
   "metadata": {},
   "outputs": [],
   "source": [
    "\n",
    "plt.figure(figsize=(20,20))\n",
    "plt.imshow(median_filter_boston,cmap='gray')\n",
    "plt.show()\n",
    "\n"
   ]
  },
  {
   "cell_type": "markdown",
   "metadata": {},
   "source": [
    "\n",
    "<h2 id=\"The-Range-Function--Filter\">The Range Function  Filter<a class=\"anchor-link\" href=\"#The-Range-Function--Filter\">¶</a></h2>\n"
   ]
  },
  {
   "cell_type": "markdown",
   "metadata": {},
   "source": [
    "\n",
    "<p>We will now design our own filter using a mathematical tool which we will define as the range filter. The range formula is the same process as the median and mean filter except this time we will use the maximum color value of a grid and the minimum color value of a grid and subtract the maximum and minimum color values. We want to use this filter to demonstrate how anomalies in this image can completly change the image and how scattered the image color values are as barely any of the image would be completly black which would mean every value in the a certain spectrum of the image is the same if the range value is 0. In addition, this range function would demonstrate why the median filter is the most efficient filter.</p>\n"
   ]
  },
  {
   "cell_type": "code",
   "execution_count": null,
   "metadata": {},
   "outputs": [],
   "source": [
    "\n",
    "import random\n",
    "def range_filter(img,s):\n",
    "    F = img.copy()\n",
    "    b = (s-1)//2\n",
    "    border = np.ones((img.shape[0] + 2*b, img.shape[1] + 2*b)) / 2\n",
    "    border[b:-b,b:-b] = img\n",
    "    for i in range(F.shape[0]):\n",
    "        for j in range(F.shape[1]):\n",
    "            grid = border[i:i+s, j:j+s]\n",
    "            F[i,j] = np.amax(grid) - np.amin(grid) #color value of the current pixel to the range value of the grid created\n",
    "    return F\n",
    "\n"
   ]
  },
  {
   "cell_type": "code",
   "execution_count": null,
   "metadata": {},
   "outputs": [],
   "source": [
    "\n",
    "range_filter_boston = range_filter(sp_boston, 5)\n",
    "\n"
   ]
  },
  {
   "cell_type": "code",
   "execution_count": null,
   "metadata": {},
   "outputs": [],
   "source": [
    "\n",
    "plt.figure(figsize=(20,20))\n",
    "plt.imshow(range_filter_boston,cmap='gray')\n",
    "plt.show()\n",
    "\n"
   ]
  },
  {
   "cell_type": "markdown",
   "metadata": {},
   "source": [
    "\n",
    "<h2 id=\"Analysis\">Analysis<a class=\"anchor-link\" href=\"#Analysis\">¶</a></h2>\n"
   ]
  },
  {
   "cell_type": "markdown",
   "metadata": {},
   "source": [
    "\n",
    "<p>From the two filters that was explored using Python code the filter that works better for reducing noise is the median filter. The reason why the median filter works better for reducing noise than the mean filter is because it is able to ignore anomalies in the image and preserve useful details of the image.</p>\n"
   ]
  },
  {
   "cell_type": "code",
   "execution_count": null,
   "metadata": {},
   "outputs": [],
   "source": [
    "\n",
    "mean_filter_boston2 = mean_filter(sp_boston, 10)\n",
    "median_filter_boston2 = median_filter(sp_boston, 10)\n",
    "\n"
   ]
  },
  {
   "cell_type": "code",
   "execution_count": null,
   "metadata": {},
   "outputs": [],
   "source": [
    "\n",
    "plt.figure(figsize=(20,20))\n",
    "plt.imshow(mean_filter_boston2,cmap='gray')\n",
    "plt.show()\n",
    "\n"
   ]
  },
  {
   "cell_type": "code",
   "execution_count": null,
   "metadata": {},
   "outputs": [],
   "source": [
    "\n",
    "plt.figure(figsize=(20,20))\n",
    "plt.imshow(median_filter_boston2,cmap='gray')\n",
    "plt.show()\n",
    "\n"
   ]
  },
  {
   "cell_type": "markdown",
   "metadata": {},
   "source": [
    "\n",
    "<p>Also, another noticeable trend based on the two filters being used on the images above is that as the size of the grid increases the closer the modified image with the filter is to the original image without salt and pepper noise.</p>\n"
   ]
  },
  {
   "cell_type": "code",
   "execution_count": null,
   "metadata": {},
   "outputs": [],
   "source": [
    "\n",
    "sp_boston2 = sp_noise(boston, .20)\n",
    "plt.figure(figsize=(20,20))\n",
    "plt.imshow(sp_boston2,cmap='gray')\n",
    "plt.show()\n",
    "\n"
   ]
  },
  {
   "cell_type": "markdown",
   "metadata": {},
   "source": [
    "\n",
    "<p>In addition, when more noise is added to an image like above then the photo becomes more grainy and looks less modern. To add, it is more taxing on the eyes to try and look at the image than with one with less noise or virtually no noise. Lastly, we came up with our own filter which we called the range filter and what this filter does it take the range of the grid for a pixel and this range filter is less efficient than the median and mean filter. The range filter made the image become enclosed with white  and also demonstrated how anomalies in an image and dataset could completely change an outcome and why the median filter works the best as it gets rids of skewed color values.</p>\n"
   ]
  },
  {
   "cell_type": "markdown",
   "metadata": {},
   "source": [
    "\n",
    "<h2 id=\"Conclusion\">Conclusion<a class=\"anchor-link\" href=\"#Conclusion\">¶</a></h2>\n"
   ]
  },
  {
   "cell_type": "markdown",
   "metadata": {},
   "source": [
    "\n",
    "<p>In conclusion, an image noise is a random distortion in the color or brightness of an image. The type of noise that was explored today is salt and pepper noise which is when random pixels of image are completely black or white. Our goal in the project was to reduce the amount of salt and pepper tools using noise reduction filters such as mean and median filters and an additional filter that was made on the spot which was the range filter. From the mean, median, and range filters we were able to see a few things:</p>\n",
    "<ul>\n",
    "<li>When more noise is added to an image the image becomes more grainy </li>\n",
    "<li>As the parameter s for the filters increases the more closer the modified image with noise reduction from the filters gets to the original image.</li>\n",
    "<li>The most efficient filter is the median filter as it ignores anomalies and gets the most useful details of the image.</li>\n",
    "</ul>\n",
    "<p>The mean and median filters are premier noise reduction techniques in image processing and are used to make images as clear as possible.</p>\n"
   ]
  }
 ],
 "metadata": {
  "kernelspec": {
   "display_name": "Python 3 (ipykernel)",
   "language": "python",
   "name": "python3"
  },
  "language_info": {
   "codemirror_mode": {
    "name": "ipython",
    "version": 3
   },
   "file_extension": ".py",
   "mimetype": "text/x-python",
   "name": "python",
   "nbconvert_exporter": "python",
   "pygments_lexer": "ipython3",
   "version": "3.11.5"
  }
 },
 "nbformat": 4,
 "nbformat_minor": 1
}
